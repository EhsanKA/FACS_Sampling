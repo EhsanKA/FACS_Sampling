{
 "cells": [
  {
   "cell_type": "code",
   "execution_count": 1,
   "id": "b10a3d5d",
   "metadata": {},
   "outputs": [],
   "source": [
    "import pandas as pd"
   ]
  },
  {
   "cell_type": "code",
   "execution_count": 3,
   "id": "606908a3",
   "metadata": {},
   "outputs": [
    {
     "name": "stderr",
     "output_type": "stream",
     "text": [
      "/var/folders/b9/mqf9wk292h39196nq6pcyk0jd6kxs7/T/ipykernel_18714/1911568729.py:1: DtypeWarning: Columns (33,34) have mixed types. Specify dtype option on import or set low_memory=False.\n",
      "  data = pd.read_csv(\"../../FACS_Sampling/datasets/AML_samples_and_myeloid_cells_only_SSC_FSC.csv\")\n"
     ]
    }
   ],
   "source": [
    "data = pd.read_csv(\"../../FACS_Sampling/datasets/AML_samples_and_myeloid_cells_only_SSC_FSC.csv\")\n"
   ]
  },
  {
   "cell_type": "code",
   "execution_count": 4,
   "id": "af31ff01",
   "metadata": {},
   "outputs": [
    {
     "data": {
      "text/html": [
       "<div>\n",
       "<style scoped>\n",
       "    .dataframe tbody tr th:only-of-type {\n",
       "        vertical-align: middle;\n",
       "    }\n",
       "\n",
       "    .dataframe tbody tr th {\n",
       "        vertical-align: top;\n",
       "    }\n",
       "\n",
       "    .dataframe thead th {\n",
       "        text-align: right;\n",
       "    }\n",
       "</style>\n",
       "<table border=\"1\" class=\"dataframe\">\n",
       "  <thead>\n",
       "    <tr style=\"text-align: right;\">\n",
       "      <th></th>\n",
       "      <th>FSC-A</th>\n",
       "      <th>FSC-H</th>\n",
       "      <th>FSC-W</th>\n",
       "      <th>SSC-A</th>\n",
       "      <th>SSC-H</th>\n",
       "      <th>SSC-W</th>\n",
       "      <th>CD33</th>\n",
       "      <th>HLA-DR</th>\n",
       "      <th>CD19 CD3</th>\n",
       "      <th>CD11b</th>\n",
       "      <th>...</th>\n",
       "      <th>CD117_aligned</th>\n",
       "      <th>CD45RA_aligned</th>\n",
       "      <th>CD34_aligned</th>\n",
       "      <th>ITGB7_aligned</th>\n",
       "      <th>CD88 CD89_aligned</th>\n",
       "      <th>FcER1A_aligned</th>\n",
       "      <th>Alignment_MC_aligned</th>\n",
       "      <th>FlowSOM_cluster</th>\n",
       "      <th>FlowSOM_metacluster</th>\n",
       "      <th>Population</th>\n",
       "    </tr>\n",
       "  </thead>\n",
       "  <tbody>\n",
       "    <tr>\n",
       "      <th>0</th>\n",
       "      <td>70</td>\n",
       "      <td>121</td>\n",
       "      <td>450</td>\n",
       "      <td>186</td>\n",
       "      <td>169</td>\n",
       "      <td>311</td>\n",
       "      <td>294</td>\n",
       "      <td>287</td>\n",
       "      <td>410</td>\n",
       "      <td>476</td>\n",
       "      <td>...</td>\n",
       "      <td>458.406250</td>\n",
       "      <td>500.299988</td>\n",
       "      <td>296.824463</td>\n",
       "      <td>347.100006</td>\n",
       "      <td>491.173523</td>\n",
       "      <td>375.899994</td>\n",
       "      <td>12</td>\n",
       "      <td>169</td>\n",
       "      <td>24</td>\n",
       "      <td>(progenitor) Erythroid like</td>\n",
       "    </tr>\n",
       "    <tr>\n",
       "      <th>1</th>\n",
       "      <td>150</td>\n",
       "      <td>226</td>\n",
       "      <td>529</td>\n",
       "      <td>186</td>\n",
       "      <td>155</td>\n",
       "      <td>333</td>\n",
       "      <td>588</td>\n",
       "      <td>761</td>\n",
       "      <td>273</td>\n",
       "      <td>278</td>\n",
       "      <td>...</td>\n",
       "      <td>555.491211</td>\n",
       "      <td>732.909546</td>\n",
       "      <td>641.099976</td>\n",
       "      <td>722.649963</td>\n",
       "      <td>154.573563</td>\n",
       "      <td>393.399994</td>\n",
       "      <td>13</td>\n",
       "      <td>47</td>\n",
       "      <td>2</td>\n",
       "      <td>HSPC like</td>\n",
       "    </tr>\n",
       "    <tr>\n",
       "      <th>2</th>\n",
       "      <td>80</td>\n",
       "      <td>157</td>\n",
       "      <td>434</td>\n",
       "      <td>79</td>\n",
       "      <td>77</td>\n",
       "      <td>257</td>\n",
       "      <td>388</td>\n",
       "      <td>357</td>\n",
       "      <td>329</td>\n",
       "      <td>489</td>\n",
       "      <td>...</td>\n",
       "      <td>464.079620</td>\n",
       "      <td>402.600006</td>\n",
       "      <td>343.799988</td>\n",
       "      <td>608.007690</td>\n",
       "      <td>536.606140</td>\n",
       "      <td>533.189819</td>\n",
       "      <td>12</td>\n",
       "      <td>170</td>\n",
       "      <td>29</td>\n",
       "      <td>Granulocyte progenitor like</td>\n",
       "    </tr>\n",
       "    <tr>\n",
       "      <th>3</th>\n",
       "      <td>91</td>\n",
       "      <td>190</td>\n",
       "      <td>434</td>\n",
       "      <td>41</td>\n",
       "      <td>38</td>\n",
       "      <td>245</td>\n",
       "      <td>331</td>\n",
       "      <td>242</td>\n",
       "      <td>262</td>\n",
       "      <td>237</td>\n",
       "      <td>...</td>\n",
       "      <td>411.399994</td>\n",
       "      <td>484.799988</td>\n",
       "      <td>295.200012</td>\n",
       "      <td>323.399994</td>\n",
       "      <td>258.047852</td>\n",
       "      <td>373.790985</td>\n",
       "      <td>12</td>\n",
       "      <td>129</td>\n",
       "      <td>24</td>\n",
       "      <td>(progenitor) Erythroid like</td>\n",
       "    </tr>\n",
       "    <tr>\n",
       "      <th>4</th>\n",
       "      <td>144</td>\n",
       "      <td>251</td>\n",
       "      <td>501</td>\n",
       "      <td>221</td>\n",
       "      <td>201</td>\n",
       "      <td>315</td>\n",
       "      <td>716</td>\n",
       "      <td>514</td>\n",
       "      <td>280</td>\n",
       "      <td>794</td>\n",
       "      <td>...</td>\n",
       "      <td>454.515869</td>\n",
       "      <td>385.299988</td>\n",
       "      <td>261.856262</td>\n",
       "      <td>396.500000</td>\n",
       "      <td>787.912476</td>\n",
       "      <td>343.299988</td>\n",
       "      <td>4</td>\n",
       "      <td>40</td>\n",
       "      <td>8</td>\n",
       "      <td>classical Monocytes</td>\n",
       "    </tr>\n",
       "  </tbody>\n",
       "</table>\n",
       "<p>5 rows × 64 columns</p>\n",
       "</div>"
      ],
      "text/plain": [
       "   FSC-A  FSC-H  FSC-W  SSC-A  SSC-H  SSC-W  CD33  HLA-DR  CD19 CD3  CD11b  \\\n",
       "0     70    121    450    186    169    311   294     287       410    476   \n",
       "1    150    226    529    186    155    333   588     761       273    278   \n",
       "2     80    157    434     79     77    257   388     357       329    489   \n",
       "3     91    190    434     41     38    245   331     242       262    237   \n",
       "4    144    251    501    221    201    315   716     514       280    794   \n",
       "\n",
       "   ...  CD117_aligned  CD45RA_aligned  CD34_aligned  ITGB7_aligned  \\\n",
       "0  ...     458.406250      500.299988    296.824463     347.100006   \n",
       "1  ...     555.491211      732.909546    641.099976     722.649963   \n",
       "2  ...     464.079620      402.600006    343.799988     608.007690   \n",
       "3  ...     411.399994      484.799988    295.200012     323.399994   \n",
       "4  ...     454.515869      385.299988    261.856262     396.500000   \n",
       "\n",
       "   CD88 CD89_aligned  FcER1A_aligned  Alignment_MC_aligned  FlowSOM_cluster  \\\n",
       "0         491.173523      375.899994                    12              169   \n",
       "1         154.573563      393.399994                    13               47   \n",
       "2         536.606140      533.189819                    12              170   \n",
       "3         258.047852      373.790985                    12              129   \n",
       "4         787.912476      343.299988                     4               40   \n",
       "\n",
       "   FlowSOM_metacluster                   Population  \n",
       "0                   24  (progenitor) Erythroid like  \n",
       "1                    2                    HSPC like  \n",
       "2                   29  Granulocyte progenitor like  \n",
       "3                   24  (progenitor) Erythroid like  \n",
       "4                    8          classical Monocytes  \n",
       "\n",
       "[5 rows x 64 columns]"
      ]
     },
     "execution_count": 4,
     "metadata": {},
     "output_type": "execute_result"
    }
   ],
   "source": [
    "data.head()"
   ]
  },
  {
   "cell_type": "code",
   "execution_count": null,
   "id": "7bbbb335",
   "metadata": {},
   "outputs": [],
   "source": [
    "data.columns"
   ]
  },
  {
   "cell_type": "code",
   "execution_count": 6,
   "id": "9c609457",
   "metadata": {},
   "outputs": [
    {
     "data": {
      "text/plain": [
       "BM    25960694\n",
       "PB     8912071\n",
       "Name: Type, dtype: int64"
      ]
     },
     "execution_count": 6,
     "metadata": {},
     "output_type": "execute_result"
    }
   ],
   "source": [
    "data['Type'].value_counts()"
   ]
  },
  {
   "cell_type": "code",
   "execution_count": 25,
   "id": "424d6f6f",
   "metadata": {},
   "outputs": [
    {
     "name": "stdout",
     "output_type": "stream",
     "text": [
      "unique_ID\n",
      "102_2    True\n",
      "104_4    True\n",
      "105_2    True\n",
      "107_1    True\n",
      "108_2    True\n",
      "         ... \n",
      "80_4     True\n",
      "84_2     True\n",
      "86_3     True\n",
      "91_9     True\n",
      "95_8     True\n",
      "Name: Subtype, Length: 100, dtype: bool\n",
      "All sample_ids have consistent types: True\n"
     ]
    }
   ],
   "source": [
    "# Group by 'sample_id' and check if each group has only one unique value in 'type'\n",
    "consistent_types = data.groupby('unique_ID')['Subtype'].nunique() == 1\n",
    "\n",
    "# To see the result for each sample_id\n",
    "print(consistent_types)\n",
    "\n",
    "# To check if all sample_ids have consistent types\n",
    "all_consistent = consistent_types.all()\n",
    "print(f\"All sample_ids have consistent types: {all_consistent}\")\n"
   ]
  },
  {
   "cell_type": "code",
   "execution_count": 29,
   "id": "68063c98",
   "metadata": {},
   "outputs": [
    {
     "name": "stdout",
     "output_type": "stream",
     "text": [
      "Index(['NK, NPM1+ FLT3-ITD (>0,5)', 'NK, NPM1+',\n",
      "       'NK, NPM1-WT; FLT3-ITD (<0,5)', 'NK, NPM1+ FLT3-ITD (<0,5)', 'inv(16)',\n",
      "       'Trisomy 8', 'NK, NPM1-wt, FLT3-wt', 'APL', 'complex, TP53', 'IDH2',\n",
      "       'NK, NPM1-WT; FLT3-ITD (>0,5)', 't(8;21), c-Kit', 'NK, CEBPA',\n",
      "       'healthy', 'EVI1', 'del5', 'complex, del5', 't(8;21)', 'IDH1'],\n",
      "      dtype='object')\n"
     ]
    }
   ],
   "source": [
    "print(data['Subtype'].value_counts().keys())\n"
   ]
  },
  {
   "cell_type": "code",
   "execution_count": 17,
   "id": "5e73ea78",
   "metadata": {},
   "outputs": [
    {
     "data": {
      "text/html": [
       "<div>\n",
       "<style scoped>\n",
       "    .dataframe tbody tr th:only-of-type {\n",
       "        vertical-align: middle;\n",
       "    }\n",
       "\n",
       "    .dataframe tbody tr th {\n",
       "        vertical-align: top;\n",
       "    }\n",
       "\n",
       "    .dataframe thead th {\n",
       "        text-align: right;\n",
       "    }\n",
       "</style>\n",
       "<table border=\"1\" class=\"dataframe\">\n",
       "  <thead>\n",
       "    <tr style=\"text-align: right;\">\n",
       "      <th></th>\n",
       "      <th>unique_ID</th>\n",
       "      <th>Sex</th>\n",
       "      <th>Age</th>\n",
       "      <th>Subtype</th>\n",
       "    </tr>\n",
       "  </thead>\n",
       "  <tbody>\n",
       "    <tr>\n",
       "      <th>0</th>\n",
       "      <td>210929_10</td>\n",
       "      <td>M</td>\n",
       "      <td>29</td>\n",
       "      <td>healthy</td>\n",
       "    </tr>\n",
       "    <tr>\n",
       "      <th>1</th>\n",
       "      <td>210929_10</td>\n",
       "      <td>M</td>\n",
       "      <td>29</td>\n",
       "      <td>healthy</td>\n",
       "    </tr>\n",
       "    <tr>\n",
       "      <th>2</th>\n",
       "      <td>210929_10</td>\n",
       "      <td>M</td>\n",
       "      <td>29</td>\n",
       "      <td>healthy</td>\n",
       "    </tr>\n",
       "    <tr>\n",
       "      <th>3</th>\n",
       "      <td>210929_10</td>\n",
       "      <td>M</td>\n",
       "      <td>29</td>\n",
       "      <td>healthy</td>\n",
       "    </tr>\n",
       "    <tr>\n",
       "      <th>4</th>\n",
       "      <td>210929_10</td>\n",
       "      <td>M</td>\n",
       "      <td>29</td>\n",
       "      <td>healthy</td>\n",
       "    </tr>\n",
       "    <tr>\n",
       "      <th>...</th>\n",
       "      <td>...</td>\n",
       "      <td>...</td>\n",
       "      <td>...</td>\n",
       "      <td>...</td>\n",
       "    </tr>\n",
       "    <tr>\n",
       "      <th>34872760</th>\n",
       "      <td>210825_9</td>\n",
       "      <td>F</td>\n",
       "      <td>25</td>\n",
       "      <td>healthy</td>\n",
       "    </tr>\n",
       "    <tr>\n",
       "      <th>34872761</th>\n",
       "      <td>210825_9</td>\n",
       "      <td>F</td>\n",
       "      <td>25</td>\n",
       "      <td>healthy</td>\n",
       "    </tr>\n",
       "    <tr>\n",
       "      <th>34872762</th>\n",
       "      <td>210825_9</td>\n",
       "      <td>F</td>\n",
       "      <td>25</td>\n",
       "      <td>healthy</td>\n",
       "    </tr>\n",
       "    <tr>\n",
       "      <th>34872763</th>\n",
       "      <td>210825_9</td>\n",
       "      <td>F</td>\n",
       "      <td>25</td>\n",
       "      <td>healthy</td>\n",
       "    </tr>\n",
       "    <tr>\n",
       "      <th>34872764</th>\n",
       "      <td>210825_9</td>\n",
       "      <td>F</td>\n",
       "      <td>25</td>\n",
       "      <td>healthy</td>\n",
       "    </tr>\n",
       "  </tbody>\n",
       "</table>\n",
       "<p>34872765 rows × 4 columns</p>\n",
       "</div>"
      ],
      "text/plain": [
       "          unique_ID Sex  Age  Subtype\n",
       "0         210929_10   M   29  healthy\n",
       "1         210929_10   M   29  healthy\n",
       "2         210929_10   M   29  healthy\n",
       "3         210929_10   M   29  healthy\n",
       "4         210929_10   M   29  healthy\n",
       "...             ...  ..  ...      ...\n",
       "34872760   210825_9   F   25  healthy\n",
       "34872761   210825_9   F   25  healthy\n",
       "34872762   210825_9   F   25  healthy\n",
       "34872763   210825_9   F   25  healthy\n",
       "34872764   210825_9   F   25  healthy\n",
       "\n",
       "[34872765 rows x 4 columns]"
      ]
     },
     "execution_count": 17,
     "metadata": {},
     "output_type": "execute_result"
    }
   ],
   "source": [
    "data[['unique_ID', 'Sex', 'Age', 'Subtype']]"
   ]
  },
  {
   "cell_type": "code",
   "execution_count": 13,
   "id": "24c02923",
   "metadata": {},
   "outputs": [
    {
     "ename": "KeyError",
     "evalue": "('unique_ID', 'Sex', 'Age', 'Subtype', 'Type', 'Blastcount', 'Survival_Sorter', 'run', 'Sample_ID', 'Alignment_MC_aligned')",
     "output_type": "error",
     "traceback": [
      "\u001B[0;31m---------------------------------------------------------------------------\u001B[0m",
      "\u001B[0;31mKeyError\u001B[0m                                  Traceback (most recent call last)",
      "File \u001B[0;32m~/opt/anaconda3/envs/FACS_Sampling/lib/python3.10/site-packages/pandas/core/indexes/base.py:3803\u001B[0m, in \u001B[0;36mIndex.get_loc\u001B[0;34m(self, key, method, tolerance)\u001B[0m\n\u001B[1;32m   3802\u001B[0m \u001B[38;5;28;01mtry\u001B[39;00m:\n\u001B[0;32m-> 3803\u001B[0m     \u001B[38;5;28;01mreturn\u001B[39;00m \u001B[38;5;28;43mself\u001B[39;49m\u001B[38;5;241;43m.\u001B[39;49m\u001B[43m_engine\u001B[49m\u001B[38;5;241;43m.\u001B[39;49m\u001B[43mget_loc\u001B[49m\u001B[43m(\u001B[49m\u001B[43mcasted_key\u001B[49m\u001B[43m)\u001B[49m\n\u001B[1;32m   3804\u001B[0m \u001B[38;5;28;01mexcept\u001B[39;00m \u001B[38;5;167;01mKeyError\u001B[39;00m \u001B[38;5;28;01mas\u001B[39;00m err:\n",
      "File \u001B[0;32m~/opt/anaconda3/envs/FACS_Sampling/lib/python3.10/site-packages/pandas/_libs/index.pyx:138\u001B[0m, in \u001B[0;36mpandas._libs.index.IndexEngine.get_loc\u001B[0;34m()\u001B[0m\n",
      "File \u001B[0;32m~/opt/anaconda3/envs/FACS_Sampling/lib/python3.10/site-packages/pandas/_libs/index.pyx:165\u001B[0m, in \u001B[0;36mpandas._libs.index.IndexEngine.get_loc\u001B[0;34m()\u001B[0m\n",
      "File \u001B[0;32mpandas/_libs/hashtable_class_helper.pxi:5745\u001B[0m, in \u001B[0;36mpandas._libs.hashtable.PyObjectHashTable.get_item\u001B[0;34m()\u001B[0m\n",
      "File \u001B[0;32mpandas/_libs/hashtable_class_helper.pxi:5753\u001B[0m, in \u001B[0;36mpandas._libs.hashtable.PyObjectHashTable.get_item\u001B[0;34m()\u001B[0m\n",
      "\u001B[0;31mKeyError\u001B[0m: ('unique_ID', 'Sex', 'Age', 'Subtype', 'Type', 'Blastcount', 'Survival_Sorter', 'run', 'Sample_ID', 'Alignment_MC_aligned')",
      "\nThe above exception was the direct cause of the following exception:\n",
      "\u001B[0;31mKeyError\u001B[0m                                  Traceback (most recent call last)",
      "Cell \u001B[0;32mIn[13], line 1\u001B[0m\n\u001B[0;32m----> 1\u001B[0m \u001B[43mdata\u001B[49m\u001B[43m[\u001B[49m\u001B[38;5;124;43m'\u001B[39;49m\u001B[38;5;124;43munique_ID\u001B[39;49m\u001B[38;5;124;43m'\u001B[39;49m\u001B[43m,\u001B[49m\u001B[43m \u001B[49m\u001B[38;5;124;43m'\u001B[39;49m\u001B[38;5;124;43mSex\u001B[39;49m\u001B[38;5;124;43m'\u001B[39;49m\u001B[43m,\u001B[49m\u001B[43m \u001B[49m\u001B[38;5;124;43m'\u001B[39;49m\u001B[38;5;124;43mAge\u001B[39;49m\u001B[38;5;124;43m'\u001B[39;49m\u001B[43m,\u001B[49m\u001B[43m \u001B[49m\u001B[38;5;124;43m'\u001B[39;49m\u001B[38;5;124;43mSubtype\u001B[39;49m\u001B[38;5;124;43m'\u001B[39;49m\u001B[43m,\u001B[49m\u001B[43m \u001B[49m\u001B[38;5;124;43m'\u001B[39;49m\u001B[38;5;124;43mType\u001B[39;49m\u001B[38;5;124;43m'\u001B[39;49m\u001B[43m,\u001B[49m\u001B[43m \u001B[49m\u001B[38;5;124;43m'\u001B[39;49m\u001B[38;5;124;43mBlastcount\u001B[39;49m\u001B[38;5;124;43m'\u001B[39;49m\u001B[43m,\u001B[49m\u001B[43m \u001B[49m\u001B[38;5;124;43m'\u001B[39;49m\u001B[38;5;124;43mSurvival_Sorter\u001B[39;49m\u001B[38;5;124;43m'\u001B[39;49m\u001B[43m,\u001B[49m\u001B[43m \u001B[49m\u001B[38;5;124;43m'\u001B[39;49m\u001B[38;5;124;43mrun\u001B[39;49m\u001B[38;5;124;43m'\u001B[39;49m\u001B[43m,\u001B[49m\u001B[38;5;124;43m'\u001B[39;49m\u001B[38;5;124;43mSample_ID\u001B[39;49m\u001B[38;5;124;43m'\u001B[39;49m\u001B[43m,\u001B[49m\u001B[38;5;124;43m'\u001B[39;49m\u001B[38;5;124;43mAlignment_MC_aligned\u001B[39;49m\u001B[38;5;124;43m'\u001B[39;49m\u001B[43m]\u001B[49m\u001B[38;5;241m.\u001B[39mhead()\n",
      "File \u001B[0;32m~/opt/anaconda3/envs/FACS_Sampling/lib/python3.10/site-packages/pandas/core/frame.py:3805\u001B[0m, in \u001B[0;36mDataFrame.__getitem__\u001B[0;34m(self, key)\u001B[0m\n\u001B[1;32m   3803\u001B[0m \u001B[38;5;28;01mif\u001B[39;00m \u001B[38;5;28mself\u001B[39m\u001B[38;5;241m.\u001B[39mcolumns\u001B[38;5;241m.\u001B[39mnlevels \u001B[38;5;241m>\u001B[39m \u001B[38;5;241m1\u001B[39m:\n\u001B[1;32m   3804\u001B[0m     \u001B[38;5;28;01mreturn\u001B[39;00m \u001B[38;5;28mself\u001B[39m\u001B[38;5;241m.\u001B[39m_getitem_multilevel(key)\n\u001B[0;32m-> 3805\u001B[0m indexer \u001B[38;5;241m=\u001B[39m \u001B[38;5;28;43mself\u001B[39;49m\u001B[38;5;241;43m.\u001B[39;49m\u001B[43mcolumns\u001B[49m\u001B[38;5;241;43m.\u001B[39;49m\u001B[43mget_loc\u001B[49m\u001B[43m(\u001B[49m\u001B[43mkey\u001B[49m\u001B[43m)\u001B[49m\n\u001B[1;32m   3806\u001B[0m \u001B[38;5;28;01mif\u001B[39;00m is_integer(indexer):\n\u001B[1;32m   3807\u001B[0m     indexer \u001B[38;5;241m=\u001B[39m [indexer]\n",
      "File \u001B[0;32m~/opt/anaconda3/envs/FACS_Sampling/lib/python3.10/site-packages/pandas/core/indexes/base.py:3805\u001B[0m, in \u001B[0;36mIndex.get_loc\u001B[0;34m(self, key, method, tolerance)\u001B[0m\n\u001B[1;32m   3803\u001B[0m     \u001B[38;5;28;01mreturn\u001B[39;00m \u001B[38;5;28mself\u001B[39m\u001B[38;5;241m.\u001B[39m_engine\u001B[38;5;241m.\u001B[39mget_loc(casted_key)\n\u001B[1;32m   3804\u001B[0m \u001B[38;5;28;01mexcept\u001B[39;00m \u001B[38;5;167;01mKeyError\u001B[39;00m \u001B[38;5;28;01mas\u001B[39;00m err:\n\u001B[0;32m-> 3805\u001B[0m     \u001B[38;5;28;01mraise\u001B[39;00m \u001B[38;5;167;01mKeyError\u001B[39;00m(key) \u001B[38;5;28;01mfrom\u001B[39;00m \u001B[38;5;21;01merr\u001B[39;00m\n\u001B[1;32m   3806\u001B[0m \u001B[38;5;28;01mexcept\u001B[39;00m \u001B[38;5;167;01mTypeError\u001B[39;00m:\n\u001B[1;32m   3807\u001B[0m     \u001B[38;5;66;03m# If we have a listlike key, _check_indexing_error will raise\u001B[39;00m\n\u001B[1;32m   3808\u001B[0m     \u001B[38;5;66;03m#  InvalidIndexError. Otherwise we fall through and re-raise\u001B[39;00m\n\u001B[1;32m   3809\u001B[0m     \u001B[38;5;66;03m#  the TypeError.\u001B[39;00m\n\u001B[1;32m   3810\u001B[0m     \u001B[38;5;28mself\u001B[39m\u001B[38;5;241m.\u001B[39m_check_indexing_error(key)\n",
      "\u001B[0;31mKeyError\u001B[0m: ('unique_ID', 'Sex', 'Age', 'Subtype', 'Type', 'Blastcount', 'Survival_Sorter', 'run', 'Sample_ID', 'Alignment_MC_aligned')"
     ]
    }
   ],
   "source": [
    "data['unique_ID', 'Sex', 'Age', 'Subtype', 'Type', 'Blastcount', 'Survival_Sorter', \n",
    "     'run','Sample_ID','Alignment_MC_aligned'].head()"
   ]
  },
  {
   "cell_type": "code",
   "execution_count": null,
   "id": "524d684b",
   "metadata": {},
   "outputs": [],
   "source": [
    "'FSC-A', 'FSC-H', 'FSC-W', 'SSC-A', 'SSC-H', 'SSC-W', 'unique_ID', 'Sex', 'Age', 'Subtype',\n",
    "'Type', 'Blastcount', 'CD34.', 'Survival_Sorter', 'run','Sample_ID','Alignment_MC_aligned',\n",
    "'FlowSOM_cluster', 'FlowSOM_metacluster','Population'"
   ]
  },
  {
   "cell_type": "code",
   "execution_count": 13,
   "id": "5053dd54",
   "metadata": {},
   "outputs": [
    {
     "data": {
      "text/plain": [
       "count    3.487276e+07\n",
       "mean     4.281857e+02\n",
       "std      2.030859e+02\n",
       "min      0.000000e+00\n",
       "25%      2.720000e+02\n",
       "50%      3.410000e+02\n",
       "75%      6.270000e+02\n",
       "max      1.023000e+03\n",
       "Name: CD34, dtype: float64"
      ]
     },
     "execution_count": 13,
     "metadata": {},
     "output_type": "execute_result"
    }
   ],
   "source": [
    "data['CD34'].describe()"
   ]
  },
  {
   "cell_type": "code",
   "execution_count": 14,
   "id": "952c6e1b",
   "metadata": {},
   "outputs": [
    {
     "data": {
      "text/plain": [
       "count     33990255\n",
       "unique          80\n",
       "top              0\n",
       "freq       4254616\n",
       "Name: CD34., dtype: int64"
      ]
     },
     "execution_count": 14,
     "metadata": {},
     "output_type": "execute_result"
    }
   ],
   "source": [
    " data['CD34.'].describe()"
   ]
  },
  {
   "cell_type": "code",
   "execution_count": 15,
   "id": "b8ff4a5f",
   "metadata": {},
   "outputs": [
    {
     "data": {
      "text/plain": [
       "count    3.487276e+07\n",
       "mean     4.341540e+02\n",
       "std      1.992054e+02\n",
       "min     -8.133927e+02\n",
       "25%      2.800000e+02\n",
       "50%      3.495685e+02\n",
       "75%      6.336549e+02\n",
       "max      6.788945e+03\n",
       "Name: CD34_aligned, dtype: float64"
      ]
     },
     "execution_count": 15,
     "metadata": {},
     "output_type": "execute_result"
    }
   ],
   "source": [
    "data['CD34_aligned'].describe()"
   ]
  },
  {
   "cell_type": "code",
   "execution_count": 16,
   "id": "2be0af82",
   "metadata": {},
   "outputs": [
    {
     "data": {
      "text/plain": [
       "count    3.487276e+07\n",
       "mean     5.286097e+02\n",
       "std      9.580112e+01\n",
       "min      0.000000e+00\n",
       "25%      4.570000e+02\n",
       "50%      5.170000e+02\n",
       "75%      5.910000e+02\n",
       "max      1.023000e+03\n",
       "Name: CD117, dtype: float64"
      ]
     },
     "execution_count": 16,
     "metadata": {},
     "output_type": "execute_result"
    }
   ],
   "source": [
    "data['CD117'].describe()"
   ]
  },
  {
   "cell_type": "code",
   "execution_count": 19,
   "id": "740a53b2",
   "metadata": {},
   "outputs": [
    {
     "data": {
      "text/plain": [
       "HSPC like                            7983931\n",
       "classical Monocytes                  7275915\n",
       "late Promyelocyte like               5798494\n",
       "(progenitor) Erythroid like          4107899\n",
       "Myelocytes                           1800144\n",
       "activated classical Monocyte like    1748648\n",
       "early Promyelocyte like              1137604\n",
       "intermediate Monocyte like           1046616\n",
       "CD117+ HSCP like                      971614\n",
       "pDC progenitor like                   847154\n",
       "Neutrophil like                       494428\n",
       "Granulocyte progenitor like           455912\n",
       "non-classical Monocyte like           435163\n",
       "conventional Dendritic like           400733\n",
       "pDC like                              213791\n",
       "Eosinophil like                       154719\n",
       "Name: Population, dtype: int64"
      ]
     },
     "execution_count": 19,
     "metadata": {},
     "output_type": "execute_result"
    }
   ],
   "source": [
    " data['Population'].value_counts()"
   ]
  },
  {
   "cell_type": "code",
   "execution_count": null,
   "id": "95e231a4",
   "metadata": {},
   "outputs": [],
   "source": []
  }
 ],
 "metadata": {
  "kernelspec": {
   "display_name": "Python 3 (ipykernel)",
   "language": "python",
   "name": "python3"
  },
  "language_info": {
   "codemirror_mode": {
    "name": "ipython",
    "version": 3
   },
   "file_extension": ".py",
   "mimetype": "text/x-python",
   "name": "python",
   "nbconvert_exporter": "python",
   "pygments_lexer": "ipython3",
   "version": "3.10.8"
  }
 },
 "nbformat": 4,
 "nbformat_minor": 5
}
