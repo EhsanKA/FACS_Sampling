{
 "cells": [
  {
   "cell_type": "code",
   "execution_count": 1,
   "id": "19bd0387-fb9f-4398-ae61-67f202c3a2ec",
   "metadata": {},
   "outputs": [],
   "source": [
    "import os\n",
    "import numpy as np\n",
    "import pandas as pd\n",
    "import scanpy as sc\n",
    "\n",
    "file_path_env = '/fast/AG_Ohler/ekarimi/projects/FACS_Sampling/data'\n",
    "OBS_FEATURES = ['prediction','organ','sample_group','label','group','celltype','sample_id']\n",
    "DROP_FEATURES = ['SSC-B-H','SSC-B-A']\n",
    "\n",
    "REFERENCES = [1, 5, 10, 20, 34]\n",
    "METHODS = ['random', 'cubic', 'atomic', 'hopper']\n",
    "SIZES = [50000, 100000, 200000]\n",
    "REPS = [i for i in range(5)]\n",
    "\n",
    "\n",
    "directory = \"lcmv/benchmark\"\n",
    "PATH = os.path.join(file_path_env, directory)\n",
    "os.makedirs(PATH, exist_ok=True)"
   ]
  },
  {
   "cell_type": "code",
   "execution_count": 2,
   "id": "6543977b-4503-49f4-9a69-a9007d036ef8",
   "metadata": {},
   "outputs": [],
   "source": [
    "def create_adata(df, obs_features=None):\n",
    "    \"\"\"\n",
    "    Create an AnnData object from a DataFrame.\n",
    "\n",
    "    Parameters:\n",
    "    df (pd.DataFrame): Input DataFrame.\n",
    "    obs_features (list, optional): List of observation features. Defaults to [\"Refined_clustering\"].\n",
    "\n",
    "    Returns:\n",
    "    sc.AnnData: The created AnnData object.\n",
    "    \"\"\"\n",
    "    # Set default observation features if none are provided\n",
    "    obs_features = [\"Refined_clustering\"] if obs_features is None else obs_features\n",
    "\n",
    "    # Create observation DataFrame\n",
    "    obs = df[obs_features].astype('category')\n",
    "\n",
    "    # Create variable DataFrame\n",
    "    var = pd.DataFrame(index=df.drop(columns=obs_features).columns.values)\n",
    "\n",
    "    # Extract data matrix\n",
    "    X = df.drop(columns=obs_features).values\n",
    "\n",
    "    # Create AnnData object\n",
    "    adata = sc.AnnData(X, obs=obs, var=var)\n",
    "\n",
    "    return adata\n"
   ]
  },
  {
   "cell_type": "markdown",
   "id": "c6bd17f1-c0ab-454a-aa15-d7a5f5c98428",
   "metadata": {},
   "source": [
    "### Generate the directories"
   ]
  },
  {
   "cell_type": "code",
   "execution_count": 3,
   "id": "ad709c47-3988-4304-a35e-18e0557765d0",
   "metadata": {},
   "outputs": [],
   "source": [
    "for reference in REFERENCES:\n",
    "    for method in METHODS:\n",
    "        for size in SIZES:\n",
    "            for rep in REPS:\n",
    "                path_rep = os.path.join(PATH, f\"{reference}/{method}/{size}/{rep}\")\n",
    "                os.makedirs(path_rep, exist_ok=True)"
   ]
  },
  {
   "cell_type": "code",
   "execution_count": null,
   "id": "84a8029a-09ab-4db5-a344-ff027920f098",
   "metadata": {},
   "outputs": [],
   "source": []
  },
  {
   "cell_type": "markdown",
   "id": "f74917bb-1b8b-44c0-b874-4bac62c70304",
   "metadata": {},
   "source": [
    "### prepare data"
   ]
  },
  {
   "cell_type": "code",
   "execution_count": 4,
   "id": "a6546b01-813d-4374-b2ae-d6eb65048cc6",
   "metadata": {},
   "outputs": [],
   "source": [
    "def create_ref_adata_unaligned():\n",
    "    \n",
    "    input_file = os.path.join(file_path_env,'lcmv', \"2024-02-27_LCMV_all_cells.csv\")\n",
    "\n",
    "    # Read the data from the CSV file\n",
    "    data = pd.read_csv(input_file, low_memory=False)\n",
    "    data = data.drop(columns=DROP_FEATURES)\n",
    "\n",
    "    # Create an AnnData object from the data\n",
    "    adata = create_adata(data, obs_features=OBS_FEATURES)\n",
    "    \n",
    "    # # Apply arcsinh transformation to the data\n",
    "    # x = np.arcsinh(adata.X/500)\n",
    "    # adata.X = x\n",
    "\n",
    "    # Construct the output file path\n",
    "    output_adata_ref = os.path.join(file_path_env,'lcmv', \"adata_lcmv.h5ad\")\n",
    "\n",
    "    # Write the AnnData object to a file\n",
    "    adata.write(output_adata_ref)\n",
    "\n",
    "    return adata"
   ]
  },
  {
   "cell_type": "code",
   "execution_count": 5,
   "id": "c6d71ba6-553f-4832-ab16-8e4bb9a0e76b",
   "metadata": {},
   "outputs": [],
   "source": [
    "# adata = create_ref_adata_unaligned()\n",
    "address_adata_ref = os.path.join(file_path_env,'lcmv', \"adata_lcmv.h5ad\")\n",
    "adata = sc.read_h5ad(address_adata_ref)\n",
    "\n",
    "label_key = 'celltype'\n",
    "\n",
    "adata.obs[label_key] = adata.obs[label_key].astype('category')\n",
    "adata.var.index = adata.var.index.astype('object')\n"
   ]
  },
  {
   "cell_type": "markdown",
   "id": "7d6bfe92-1a0c-4e4d-988a-eee6857289b7",
   "metadata": {},
   "source": [
    "### Generate the references"
   ]
  },
  {
   "cell_type": "code",
   "execution_count": 6,
   "id": "cf4d6f27-15c1-4af2-8128-9cbf5f8c9b3f",
   "metadata": {},
   "outputs": [],
   "source": [
    "for ref in REFERENCES:\n",
    "    np.random.seed(164 + ref)\n",
    "    output_address = os.path.join(PATH, f\"{ref}/adata.h5ad\")\n",
    "    \n",
    "    if ref ==34:\n",
    "        adata.write(output_address)\n",
    "    else:\n",
    "        random_indices = np.random.choice(adata.shape[0], size=ref*1000000, replace=False)\n",
    "        sampled_adata = adata[random_indices].copy()\n",
    "        sampled_adata.write(output_address)"
   ]
  },
  {
   "cell_type": "code",
   "execution_count": null,
   "id": "464e8f85-1561-45c0-83b6-4ebe68cb6516",
   "metadata": {},
   "outputs": [],
   "source": []
  }
 ],
 "metadata": {
  "kernelspec": {
   "display_name": "Python [conda env:facs_sampling]",
   "language": "python",
   "name": "conda-env-facs_sampling-py"
  },
  "language_info": {
   "codemirror_mode": {
    "name": "ipython",
    "version": 3
   },
   "file_extension": ".py",
   "mimetype": "text/x-python",
   "name": "python",
   "nbconvert_exporter": "python",
   "pygments_lexer": "ipython3",
   "version": "3.10.8"
  }
 },
 "nbformat": 4,
 "nbformat_minor": 5
}
