{
 "cells": [
  {
   "cell_type": "code",
   "execution_count": 1,
   "id": "ebcd0b09-093d-4d45-9872-97138bab7d18",
   "metadata": {},
   "outputs": [],
   "source": [
    "import os\n",
    "import pandas as pd\n",
    "import scanpy as sc\n",
    "\n",
    "file_path_env = '/fast/AG_Ohler/ekarimi/projects/FACS_Sampling/data'\n",
    "REFERENCES = [1, 5, 10, 20, 34]\n",
    "directory = \"lcmv/benchmark\"\n",
    "PATH = os.path.join(file_path_env, directory)"
   ]
  },
  {
   "cell_type": "code",
   "execution_count": null,
   "id": "cd4f4845-7332-414e-bac1-098fcd96fda8",
   "metadata": {},
   "outputs": [],
   "source": []
  },
  {
   "cell_type": "code",
   "execution_count": 2,
   "id": "c29f0288-e319-4cc7-b360-08547bc3c0c6",
   "metadata": {},
   "outputs": [],
   "source": [
    "def convert_h5ad_to_csv(ref):\n",
    "    adata_address = os.path.join(PATH, f\"{ref}/adata.h5ad\")\n",
    "    adata = sc.read_h5ad(adata_address)\n",
    "    \n",
    "    adata_x_address = os.path.join(PATH,f\"{ref}/adata_x.csv\")\n",
    "    obs_address = os.path.join(PATH,f\"{ref}/obs.csv\")\n",
    "    print(\"Reading data...\")\n",
    "\n",
    "    print(\"Writing data...\")\n",
    "\n",
    "    pd.DataFrame(data=adata.X, index=adata.obs_names, columns=adata.var_names).to_csv(adata_x_address)\n",
    "    # comma separated csv with header, no rownames\n",
    "    pd.DataFrame(adata.obs).to_csv(obs_address)"
   ]
  },
  {
   "cell_type": "code",
   "execution_count": null,
   "id": "184b8767-97f2-4332-90c4-b174daa04c8a",
   "metadata": {},
   "outputs": [],
   "source": []
  },
  {
   "cell_type": "code",
   "execution_count": null,
   "id": "3839bda3-14c3-4a47-9183-b576001630bf",
   "metadata": {},
   "outputs": [
    {
     "name": "stdout",
     "output_type": "stream",
     "text": [
      "Reading data...\n",
      "Writing data...\n",
      "Reading data...\n",
      "Writing data...\n",
      "Reading data...\n",
      "Writing data...\n",
      "Reading data...\n",
      "Writing data...\n",
      "Reading data...\n",
      "Writing data...\n"
     ]
    }
   ],
   "source": [
    "for ref in REFERENCES:\n",
    "    convert_h5ad_to_csv(ref)"
   ]
  },
  {
   "cell_type": "code",
   "execution_count": null,
   "id": "022dc7e1-89ff-4e35-9eca-404f4f3c00ea",
   "metadata": {},
   "outputs": [],
   "source": []
  }
 ],
 "metadata": {
  "kernelspec": {
   "display_name": "Python [conda env:facs_sampling]",
   "language": "python",
   "name": "conda-env-facs_sampling-py"
  },
  "language_info": {
   "codemirror_mode": {
    "name": "ipython",
    "version": 3
   },
   "file_extension": ".py",
   "mimetype": "text/x-python",
   "name": "python",
   "nbconvert_exporter": "python",
   "pygments_lexer": "ipython3",
   "version": "3.10.8"
  }
 },
 "nbformat": 4,
 "nbformat_minor": 5
}
