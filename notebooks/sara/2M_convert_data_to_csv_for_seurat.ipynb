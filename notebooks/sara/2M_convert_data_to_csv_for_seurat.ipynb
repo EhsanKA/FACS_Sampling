{
 "cells": [
  {
   "cell_type": "code",
   "execution_count": 2,
   "id": "9412d25c-0ef5-4155-8065-3c2a00472fff",
   "metadata": {},
   "outputs": [],
   "source": [
    "import scanpy as sc\n",
    "import pandas as pd\n",
    "import os"
   ]
  },
  {
   "cell_type": "code",
   "execution_count": 9,
   "id": "5383135e-19a7-456f-9fe9-0eec54001af5",
   "metadata": {},
   "outputs": [
    {
     "name": "stdout",
     "output_type": "stream",
     "text": [
      "Reading data...\n",
      "Writing data...\n"
     ]
    }
   ],
   "source": [
    "file_path_env = os.getenv('MY_FACS_DATA_PATH')\n",
    "input_file1 = os.path.join(file_path_env,'sara_data',\"adata_ref_sara_2M.h5ad\")\n",
    "\n",
    "output_file1 = os.path.join(file_path_env,'sara_data',\"adata_ref_sara_2M_raw_counts.csv\")\n",
    "output_file2 = os.path.join(file_path_env,'sara_data',\"adata_ref_sara_2M_metadata.csv\")\n",
    "print(\"Reading data...\")\n",
    "adata = sc.read_h5ad(input_file1)\n",
    "\n",
    "\n",
    "print(\"Writing data...\")\n",
    "t=adata.X\n",
    "pd.DataFrame(data=t, index=adata.obs_names, columns=adata.var_names).to_csv(output_file1)\n",
    "# comma separated csv with header, no rownames\n",
    "pd.DataFrame(adata.obs).to_csv(output_file2)"
   ]
  },
  {
   "cell_type": "code",
   "execution_count": null,
   "id": "fb262b15-baab-4761-afa7-8fff9ea8beec",
   "metadata": {},
   "outputs": [],
   "source": []
  },
  {
   "cell_type": "code",
   "execution_count": 10,
   "id": "54d4cb05-dc43-4e75-a417-393c904712a1",
   "metadata": {},
   "outputs": [
    {
     "data": {
      "text/plain": [
       "0"
      ]
     },
     "execution_count": 10,
     "metadata": {},
     "output_type": "execute_result"
    }
   ],
   "source": [
    "2-2"
   ]
  },
  {
   "cell_type": "code",
   "execution_count": null,
   "id": "4369612b-8de2-4dbc-82c3-d1f5c06ab45b",
   "metadata": {},
   "outputs": [],
   "source": []
  }
 ],
 "metadata": {
  "kernelspec": {
   "display_name": "Python 3 (ipykernel)",
   "language": "python",
   "name": "python3"
  },
  "language_info": {
   "codemirror_mode": {
    "name": "ipython",
    "version": 3
   },
   "file_extension": ".py",
   "mimetype": "text/x-python",
   "name": "python",
   "nbconvert_exporter": "python",
   "pygments_lexer": "ipython3",
   "version": "3.10.8"
  }
 },
 "nbformat": 4,
 "nbformat_minor": 5
}
