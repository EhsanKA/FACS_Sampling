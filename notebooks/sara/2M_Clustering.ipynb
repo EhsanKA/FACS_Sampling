{
 "cells": [
  {
   "cell_type": "code",
   "execution_count": 1,
   "id": "31525054-9280-4230-b6be-48c955903e72",
   "metadata": {},
   "outputs": [],
   "source": [
    "import pandas as pd\n",
    "import matplotlib.pyplot as plt\n",
    "import scanpy as sc\n",
    "import numpy as np\n",
    "import os\n",
    "from FACS_Sampling.utils import create_adata\n",
    "\n",
    "sc.set_figure_params(figsize=(8,8), fontsize=15, )"
   ]
  },
  {
   "cell_type": "code",
   "execution_count": 2,
   "id": "5824470f-e663-4937-8360-637f184a452f",
   "metadata": {},
   "outputs": [],
   "source": [
    "\n",
    "# Get the file path from the environment variable\n",
    "file_path_env = os.getenv('MY_FACS_DATA_PATH')\n",
    "input_file1 = os.path.join(file_path_env,'sara_data',\"adata_ref_sara_2M.h5ad\")\n",
    "input_file2 = os.path.join(file_path_env,'sara_data', 'reps',\"random_adata_2_30__0.h5ad\")\n",
    "input_file3 = os.path.join(file_path_env,'sara_data', 'reps',\"fsbs_adata_2_30__0.h5ad\")\n",
    "\n",
    "adata_ref = sc.read_h5ad(input_file1)\n",
    "adata_random = sc.read_h5ad(input_file2)\n",
    "adata_fsbs =  sc.read_h5ad(input_file3)\n"
   ]
  },
  {
   "cell_type": "code",
   "execution_count": null,
   "id": "e1014ef4-34ca-436b-8b56-76dd09f56ea7",
   "metadata": {},
   "outputs": [],
   "source": []
  }
 ],
 "metadata": {
  "kernelspec": {
   "display_name": "Python 3 (ipykernel)",
   "language": "python",
   "name": "python3"
  },
  "language_info": {
   "codemirror_mode": {
    "name": "ipython",
    "version": 3
   },
   "file_extension": ".py",
   "mimetype": "text/x-python",
   "name": "python",
   "nbconvert_exporter": "python",
   "pygments_lexer": "ipython3",
   "version": "3.10.8"
  }
 },
 "nbformat": 4,
 "nbformat_minor": 5
}
